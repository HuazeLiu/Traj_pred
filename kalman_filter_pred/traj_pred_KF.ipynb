{
  "cells": [
    {
      "cell_type": "code",
      "execution_count": null,
      "metadata": {
        "colab": {
          "base_uri": "https://localhost:8080/"
        },
        "id": "mP1Bv5jBXNbw",
        "outputId": "df268836-ef62-46f5-c1f8-8cd227321050"
      },
      "outputs": [],
      "source": [
        "!nvidia-smi"
      ]
    },
    {
      "cell_type": "code",
      "execution_count": null,
      "metadata": {
        "colab": {
          "base_uri": "https://localhost:8080/"
        },
        "id": "JGXqXrQfY2yo",
        "outputId": "aaa01ef2-2191-493a-bcaf-650c623ba8fd"
      },
      "outputs": [],
      "source": [
        "import os\n",
        "HOME = os.getcwd()\n",
        "print(HOME)"
      ]
    },
    {
      "cell_type": "code",
      "execution_count": null,
      "metadata": {
        "id": "zfc06V9QZFup"
      },
      "outputs": [],
      "source": [
        "# !pip install -q inference-gpu[yolo-world]==0.9.13"
      ]
    },
    {
      "cell_type": "code",
      "execution_count": null,
      "metadata": {
        "id": "44LZf5qb3bet"
      },
      "outputs": [],
      "source": [
        "# !pip install -q supervision==0.22.0"
      ]
    },
    {
      "cell_type": "markdown",
      "metadata": {
        "id": "dnEI8EOpalbe"
      },
      "source": [
        "## Imports"
      ]
    },
    {
      "cell_type": "code",
      "execution_count": null,
      "metadata": {
        "id": "UIcZyEhuacFT"
      },
      "outputs": [],
      "source": [
        "import cv2\n",
        "import supervision as sv\n",
        "from tqdm import tqdm\n",
        "from inference.models import YOLOWorld"
      ]
    },
    {
      "cell_type": "markdown",
      "metadata": {
        "id": "ULzC4SZdbO-L"
      },
      "source": [
        "## Download example data"
      ]
    },
    {
      "cell_type": "code",
      "execution_count": null,
      "metadata": {
        "id": "Kvq4jtTjg31-"
      },
      "outputs": [],
      "source": [
        "SOURCE_IMAGE_PATH = r\"C:\\Users\\hzliu\\OneDrive\\Desktop\\ZED-data-collector\\SVO\\exo_video_sequence\\elephant_1\\image_0\\1751066578109991.png\"\n",
        "SOURCE_IMAGE_PATH_2 = f\"{HOME}/SVO/video_seq/seq_1/image_0/1750285875605786.png\"\n",
        "SOURCE_IMAGE_PATH_3 = f\"{HOME}/SVO/video_seq/seq_pen/image_0/1750293427688891.png\"\n",
        "SOURCE_IMAGE_PATH_4 = f\"{HOME}/SVO/video_seq/seq_pen/image_0/1750293427738899.png\"\n",
        "SOURCE_IMAGE_PATH_5 = f\"{HOME}/SVO/video_seq/seq_pen/image_0/1750293428079526.png\"\n",
        "\n",
        "\n",
        "SOURCE_VIDEO_PATH = f\"{HOME}/yellow-filling.mp4\""
      ]
    },
    {
      "cell_type": "markdown",
      "metadata": {
        "id": "NLP6DK4YbVpm"
      },
      "source": [
        "## Run Object Detection\n",
        "\n",
        "\n",
        "\n",
        "\n",
        "\n"
      ]
    },
    {
      "cell_type": "code",
      "execution_count": null,
      "metadata": {
        "id": "osrplWqebju0"
      },
      "outputs": [],
      "source": [
        "model = YOLOWorld(model_id=\"yolo_world/l\")"
      ]
    },
    {
      "cell_type": "code",
      "execution_count": null,
      "metadata": {
        "colab": {
          "base_uri": "https://localhost:8080/"
        },
        "id": "UZTYuZlAdYhC",
        "outputId": "aaf15465-ad56-43f4-cd48-842f27a76309"
      },
      "outputs": [],
      "source": [
        "classes = ['doll']\n",
        "model.set_classes(classes)"
      ]
    },
    {
      "cell_type": "code",
      "execution_count": null,
      "metadata": {
        "id": "ZinEbFJsdp9m"
      },
      "outputs": [],
      "source": [
        "image = cv2.imread(SOURCE_IMAGE_PATH)\n",
        "results = model.infer(image, confidence=0.003)\n",
        "\n",
        "for p in results.predictions:\n",
        "    print(p.class_name)\n",
        "detections = sv.Detections.from_inference(results)"
      ]
    },
    {
      "cell_type": "code",
      "execution_count": null,
      "metadata": {},
      "outputs": [],
      "source": [
        "results"
      ]
    },
    {
      "cell_type": "code",
      "execution_count": null,
      "metadata": {
        "id": "37CMTxw0jSyH"
      },
      "outputs": [],
      "source": [
        "BOUNDING_BOX_ANNOTATOR = sv.BoundingBoxAnnotator(thickness=2)\n",
        "LABEL_ANNOTATOR = sv.LabelAnnotator(text_thickness=2, text_scale=1, text_color=sv.Color.BLACK)"
      ]
    },
    {
      "cell_type": "code",
      "execution_count": null,
      "metadata": {
        "colab": {
          "base_uri": "https://localhost:8080/",
          "height": 807
        },
        "id": "YkVoWxchher5",
        "outputId": "4be54dea-9ced-461d-9e80-962e5c2bd3f0"
      },
      "outputs": [],
      "source": [
        "labels = [\n",
        "    f\"{classes[class_id]} {confidence:0.3f}\"\n",
        "    for class_id, confidence\n",
        "    in zip(detections.class_id, detections.confidence)\n",
        "]\n",
        "\n",
        "annotated_image = image.copy()\n",
        "annotated_image = BOUNDING_BOX_ANNOTATOR.annotate(annotated_image, detections)\n",
        "annotated_image = LABEL_ANNOTATOR.annotate(annotated_image, detections, labels=labels)\n",
        "sv.plot_image(annotated_image, (10, 10))"
      ]
    },
    {
      "cell_type": "code",
      "execution_count": null,
      "metadata": {},
      "outputs": [],
      "source": [
        "left_dir  = r'C:\\Users\\hzliu\\OneDrive\\Desktop\\ZED-data-collector\\SVO\\exo_video_sequence\\elephant_1\\image_0'\n",
        "right_dir = r'C:\\Users\\hzliu\\OneDrive\\Desktop\\ZED-data-collector\\SVO\\exo_video_sequence\\elephant_1\\image_1'"
      ]
    },
    {
      "cell_type": "code",
      "execution_count": null,
      "metadata": {},
      "outputs": [],
      "source": [
        "import cv2\n",
        "import glob\n",
        "import os\n",
        "import numpy as np\n",
        "from kalman_filter import StereoCalib, KalmanFilter, triangulate, pick_banana_center\n",
        "\n",
        "calib = StereoCalib.from_txt(\"calib_stereo.txt\")\n",
        "kf = KalmanFilter(dt=1/60)\n",
        "\n",
        "left_paths  = sorted(glob.glob(os.path.join(left_dir, \"*.png\")))\n",
        "right_paths = sorted(glob.glob(os.path.join(right_dir, \"*.png\")))\n",
        "assert len(left_paths) == len(right_paths), \"Mismatched number of frames\"\n",
        "num_frames = len(left_paths)\n",
        "\n",
        "pred_traj = []\n",
        "gt_traj = []         # Triangulated ground truth\n",
        "pred_windows = []    # Predicted future trajectories\n",
        "\n",
        "# Parameters\n",
        "PRED_INTERVAL = 8   # Number of frames to predict\n",
        "PRED_GAP = 8\n",
        "motion_threshold = 0.01\n",
        "\n",
        "init_buffer = []\n",
        "kf_initialized = False\n",
        "\n",
        "for frame_id in range(num_frames):\n",
        "    img_L = cv2.imread(left_paths[frame_id])\n",
        "    img_R = cv2.imread(right_paths[frame_id])\n",
        "\n",
        "    preds_L = model.infer(img_L, confidence=0.003)\n",
        "    preds_R = model.infer(img_R, confidence=0.003)\n",
        "    det_L = pick_banana_center(preds_L)\n",
        "    det_R = pick_banana_center(preds_R)\n",
        "    \n",
        "    if det_L and det_R:\n",
        "        xyz = triangulate(det_L['u'], det_L['v'],\n",
        "                          det_R['u'], det_R['v'], calib)\n",
        "        gt_traj.append(xyz)\n",
        "\n",
        "        if not kf_initialized:\n",
        "            init_buffer.append(xyz)\n",
        "            if len(init_buffer) == 2:\n",
        "                kf.initialize(init_buffer[0], init_buffer[1])\n",
        "                kf_initialized = True\n",
        "                pred_traj.append(kf.x[0:3].ravel())\n",
        "            else:\n",
        "                pred_traj.append(xyz)\n",
        "            continue\n",
        "\n",
        "        kf.predict()\n",
        "        kf.update(xyz)\n",
        "        pred_traj.append(kf.x[:3].copy().ravel())\n",
        "\n",
        "        # forecast (open-loop)\n",
        "        if frame_id % PRED_GAP == 0 and frame_id + PRED_INTERVAL < num_frames:\n",
        "            future_preds = []\n",
        "            saved_kf_state = (kf.x.copy(), kf.P.copy())\n",
        "            for _ in range(PRED_INTERVAL):\n",
        "                kf.predict()\n",
        "                future_preds.append(kf.x[:3].copy().ravel())\n",
        "            pred_windows.append(future_preds)\n",
        "            kf.x, kf.P = saved_kf_state\n",
        "\n",
        "    else:\n",
        "        if kf_initialized:\n",
        "            kf.predict()\n",
        "            pred_traj.append(kf.x[:3].copy().ravel())\n",
        "        else:\n",
        "            pred_traj.append(np.array([np.nan, np.nan, np.nan]))\n"
      ]
    },
    {
      "cell_type": "code",
      "execution_count": null,
      "metadata": {},
      "outputs": [],
      "source": [
        "print(\"GT trajectory frames:\", len(gt_traj))\n",
        "print(\"KF trajectory frames:\", len(pred_traj))\n",
        "print(\"Number of prediction windows:\", len(pred_windows))"
      ]
    },
    {
      "cell_type": "code",
      "execution_count": null,
      "metadata": {},
      "outputs": [],
      "source": [
        "import numpy as np\n",
        "import plotly.graph_objects as go\n",
        "\n",
        "pred_traj = np.array(pred_traj)  # (N, 3)\n",
        "gt_traj   = np.array(gt_traj)    # (N, 3)\n",
        "\n",
        "print(pred_traj.shape)  # should be (N, 3)\n",
        "print(gt_traj.shape)    # should be (N, 3)\n",
        "\n",
        "fig = go.Figure()\n",
        "\n",
        "min_len = min(len(gt_traj), len(pred_traj))\n",
        "gt_traj = gt_traj[:min_len]\n",
        "pred_traj = pred_traj[:min_len]\n",
        "\n",
        "fig.add_trace(go.Scatter3d(\n",
        "    x=pred_traj[:, 0],\n",
        "    y=pred_traj[:, 1],\n",
        "    z=pred_traj[:, 2],\n",
        "    mode='lines+markers',\n",
        "    name='KF Filtered',\n",
        "    line=dict(width=4, color='blue'),\n",
        "    marker=dict(size=2)\n",
        "))\n",
        "\n",
        "# GT\n",
        "fig.add_trace(go.Scatter3d(\n",
        "    x=gt_traj[:, 0],\n",
        "    y=gt_traj[:, 1],\n",
        "    z=gt_traj[:, 2],\n",
        "    mode='lines+markers',\n",
        "    name='Ground Truth',\n",
        "    line=dict(width=4, dash='dash', color='black'),\n",
        "    marker=dict(size=2)\n",
        "))\n",
        "\n",
        "for i, seq in enumerate(pred_windows):\n",
        "    pred_seq = np.array(seq)\n",
        "    fig.add_trace(go.Scatter3d(\n",
        "        x=pred_seq[:, 0],\n",
        "        y=pred_seq[:, 1],\n",
        "        z=pred_seq[:, 2],\n",
        "        mode='lines+markers',\n",
        "        name=f'Predicted Traj {i}',\n",
        "        line=dict(width=2, color='red'),\n",
        "        marker=dict(size=2)\n",
        "    ))\n",
        "fig.update_layout(\n",
        "    scene=dict(\n",
        "        xaxis_title='X (m)',\n",
        "        yaxis_title='Y (m)',\n",
        "        zaxis_title='Z (m)',\n",
        "        aspectmode='data'\n",
        "    ),\n",
        "    legend=dict(x=0.05, y=0.95),\n",
        "    title='Trajectory Prediction: Filtered vs 20-Step Forecasts'\n",
        ")\n",
        "\n",
        "fig.show()\n"
      ]
    }
  ],
  "metadata": {
    "accelerator": "GPU",
    "colab": {
      "gpuType": "T4",
      "provenance": []
    },
    "kernelspec": {
      "display_name": "base",
      "language": "python",
      "name": "python3"
    },
    "language_info": {
      "codemirror_mode": {
        "name": "ipython",
        "version": 3
      },
      "file_extension": ".py",
      "mimetype": "text/x-python",
      "name": "python",
      "nbconvert_exporter": "python",
      "pygments_lexer": "ipython3",
      "version": "3.13.2"
    }
  },
  "nbformat": 4,
  "nbformat_minor": 0
}
